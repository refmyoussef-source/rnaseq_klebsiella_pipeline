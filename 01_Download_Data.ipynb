{
 "cells": [
  {
   "cell_type": "markdown",
   "id": "39818d0f-59cf-46e3-bf30-cf3c9a3def47",
   "metadata": {},
   "source": [
    "# RNA-Seq Pipeline: Step 1 - Download Raw SRA Data\n",
    "\n",
    "This notebook is the first step in the analysis pipeline. Its purpose is to download the 6 raw RNA-Seq samples (FASTQ) associated with **BioProject PRJNA1281001** from the Sequence Read Archive (SRA).\n",
    "\n",
    "**Tool:** `fasterq-dump` (from the `sra-tools` package)\n",
    "**Output Directory:** `01_Raw_Data/`\n",
    "\n",
    "## Experimental Design\n",
    "The analysis compares two groups:\n",
    "* **WT (Control):** 3 biological replicates (Wild-Type *K. pneumoniae HS11286*)\n",
    "* **ΔcpxR (Mutant):** 3 biological replicates (cpxR deletion mutant)"
   ]
  },
  {
   "cell_type": "code",
   "execution_count": 1,
   "id": "f89a061d-9403-4ee2-abd4-1e4d3e47c6c9",
   "metadata": {},
   "outputs": [
    {
     "name": "stdout",
     "output_type": "stream",
     "text": [
      "Total samples to download: 6\n",
      "Output directory: 01_Raw_Data\n",
      "All sample accessions: ['SRR34134109', 'SRR34134108', 'SRR34134107', 'SRR34134106', 'SRR34134105', 'SRR34134104']\n"
     ]
    }
   ],
   "source": [
    "import os\n",
    "\n",
    "# Define the target output directory for FASTQ files\n",
    "output_dir = \"01_Raw_Data\"\n",
    "\n",
    "# Ensure the output directory exists\n",
    "os.makedirs(output_dir, exist_ok=True)\n",
    "\n",
    "# Define the SRA accession numbers for all samples\n",
    "# (Source: SRA data for PRJNA1281001)\n",
    "\n",
    "# Group 1: Wild-Type (WT) Samples\n",
    "wt_samples = [\"SRR34134109\", \"SRR34134108\", \"SRR34134107\"]\n",
    "\n",
    "# Group 2: Mutant (delta-cpxR) Samples\n",
    "mutant_samples = [\"SRR34134106\", \"SRR34134105\", \"SRR34134104\"]\n",
    "\n",
    "# Combine lists for the download loop\n",
    "all_samples = wt_samples + mutant_samples\n",
    "\n",
    "print(f\"Total samples to download: {len(all_samples)}\")\n",
    "print(f\"Output directory: {output_dir}\")\n",
    "print(f\"All sample accessions: {all_samples}\")"
   ]
  },
  {
   "cell_type": "code",
   "execution_count": 3,
   "id": "9b711092-7fbe-48b3-93a5-b2fe98960cc6",
   "metadata": {},
   "outputs": [
    {
     "name": "stdout",
     "output_type": "stream",
     "text": [
      "--- Starting SRA Download Loop ---\n",
      "Target Directory: 01_Raw_Data\n",
      "Processing samples: SRR34134109 SRR34134108 SRR34134107 SRR34134106 SRR34134105 SRR34134104\n",
      "--------------------------------------\n",
      "Fetching: SRR34134109\n"
     ]
    },
    {
     "name": "stderr",
     "output_type": "stream",
     "text": [
      "join   :|-------------------------------------------------- 100%\n",
      "concat :|-------------------------------------------------- 100%\n",
      "spots read      : 17,520,984\n",
      "reads read      : 35,041,968\n",
      "reads written   : 35,041,968\n"
     ]
    },
    {
     "name": "stdout",
     "output_type": "stream",
     "text": [
      "Finished processing SRR34134109.\n",
      "--------------------------------------\n",
      "Fetching: SRR34134108\n"
     ]
    },
    {
     "name": "stderr",
     "output_type": "stream",
     "text": [
      "join   :|-------------------------------------------------- 100%\n",
      "concat :|-------------------------------------------------- 100%\n",
      "spots read      : 17,765,045\n",
      "reads read      : 35,530,090\n",
      "reads written   : 35,530,090\n"
     ]
    },
    {
     "name": "stdout",
     "output_type": "stream",
     "text": [
      "Finished processing SRR34134108.\n",
      "--------------------------------------\n",
      "Fetching: SRR34134107\n"
     ]
    },
    {
     "name": "stderr",
     "output_type": "stream",
     "text": [
      "join   :|-------------------------------------------------- 100%\n",
      "concat :|-------------------------------------------------- 100%\n",
      "spots read      : 17,243,686\n",
      "reads read      : 34,487,372\n",
      "reads written   : 34,487,372\n"
     ]
    },
    {
     "name": "stdout",
     "output_type": "stream",
     "text": [
      "Finished processing SRR34134107.\n",
      "--------------------------------------\n",
      "Fetching: SRR34134106\n"
     ]
    },
    {
     "name": "stderr",
     "output_type": "stream",
     "text": [
      "join   :|-------------------------------------------------- 100%\n",
      "concat :|-------------------------------------------------- 100%\n",
      "spots read      : 16,185,133\n",
      "reads read      : 32,370,266\n",
      "reads written   : 32,370,266\n"
     ]
    },
    {
     "name": "stdout",
     "output_type": "stream",
     "text": [
      "Finished processing SRR34134106.\n",
      "--------------------------------------\n",
      "Fetching: SRR34134105\n"
     ]
    },
    {
     "name": "stderr",
     "output_type": "stream",
     "text": [
      "join   :|-------------------------------------------------- 100%\n",
      "concat :|-------------------------------------------------- 100%\n",
      "spots read      : 15,131,966\n",
      "reads read      : 30,263,932\n",
      "reads written   : 30,263,932\n"
     ]
    },
    {
     "name": "stdout",
     "output_type": "stream",
     "text": [
      "Finished processing SRR34134105.\n",
      "--------------------------------------\n",
      "Fetching: SRR34134104\n"
     ]
    },
    {
     "name": "stderr",
     "output_type": "stream",
     "text": [
      "join   :|-------------------------------------------------- 100%\n",
      "concat :|-------------------------------------------------- 100%\n",
      "spots read      : 20,798,968\n",
      "reads read      : 41,597,936\n",
      "reads written   : 41,597,936\n"
     ]
    },
    {
     "name": "stdout",
     "output_type": "stream",
     "text": [
      "Finished processing SRR34134104.\n",
      "--------------------------------------\n",
      "All SRA downloads complete.\n",
      "Files are located in: 01_Raw_Data\n"
     ]
    }
   ],
   "source": [
    "%%bash -s \"$output_dir\" \"$all_samples\"\n",
    "# This cell uses '%%bash' magic to run shell commands.\n",
    "# '$1' (output_dir) and '$2' (all_samples) are passed in from Python.\n",
    "\n",
    "# 1. Assign Python variables to Bash variables\n",
    "output_dir=$1\n",
    "samples_list=$2\n",
    "\n",
    "# 2. Convert the Python list string \"['SRR...', 'SRR...']\"\n",
    "#    into a clean Bash array (SRR... SRR...)\n",
    "#    FIX: Used double quotes (\"\") instead of single ('') for tr\n",
    "#    to correctly handle the characters to be deleted ( [ ] , ' )\n",
    "samples_array=$(echo $samples_list | tr -d \"[],'\")\n",
    "\n",
    "echo \"--- Starting SRA Download Loop ---\"\n",
    "echo \"Target Directory: $output_dir\"\n",
    "echo \"Processing samples: ${samples_array[@]}\"\n",
    "\n",
    "# 3. Loop through each SRR accession and download\n",
    "for srr in ${samples_array[@]}; do\n",
    "    echo \"--------------------------------------\"\n",
    "    echo \"Fetching: $srr\"\n",
    "    \n",
    "    # Use fasterq-dump to download\n",
    "    # --split-files : Splits paired-end data into _1.fastq and _2.fastq\n",
    "    # -e 8          : Use 8 threads for faster processing\n",
    "    # -O $output_dir: Set the output directory\n",
    "    # -p            : Show a progress bar\n",
    "    \n",
    "    fasterq-dump $srr --split-files -e 8 -O $output_dir -p\n",
    "    \n",
    "    echo \"Finished processing $srr.\"\n",
    "done\n",
    "\n",
    "echo \"--------------------------------------\"\n",
    "echo \"All SRA downloads complete.\"\n",
    "echo \"Files are located in: $output_dir\""
   ]
  },
  {
   "cell_type": "markdown",
   "id": "efa38f48-e3b7-4e7a-86ed-9f538e56e5da",
   "metadata": {},
   "source": [
    "### 4. Verify Downloaded Files\n",
    "\n",
    "Let's check the contents of the `01_Raw_Data/` directory to ensure all 6 samples (12 files, Paired-End) were downloaded correctly."
   ]
  },
  {
   "cell_type": "code",
   "execution_count": 4,
   "id": "b0fd8a32-e4f2-4ac2-9e81-dddb92f46ccb",
   "metadata": {},
   "outputs": [
    {
     "name": "stdout",
     "output_type": "stream",
     "text": [
      "--- Verifying files in 01_Raw_Data ---\n",
      "total 87G\n",
      "-rw-rw-r-- 1 refm_youssef refm_youssef 8.7G Oct 23 02:53 SRR34134104_1.fastq\n",
      "-rw-rw-r-- 1 refm_youssef refm_youssef 8.7G Oct 23 02:53 SRR34134104_2.fastq\n",
      "-rw-rw-r-- 1 refm_youssef refm_youssef 6.3G Oct 23 02:42 SRR34134105_1.fastq\n",
      "-rw-rw-r-- 1 refm_youssef refm_youssef 6.3G Oct 23 02:42 SRR34134105_2.fastq\n",
      "-rw-rw-r-- 1 refm_youssef refm_youssef 6.8G Oct 23 02:35 SRR34134106_1.fastq\n",
      "-rw-rw-r-- 1 refm_youssef refm_youssef 6.8G Oct 23 02:35 SRR34134106_2.fastq\n",
      "-rw-rw-r-- 1 refm_youssef refm_youssef 7.2G Oct 23 02:27 SRR34134107_1.fastq\n",
      "-rw-rw-r-- 1 refm_youssef refm_youssef 7.2G Oct 23 02:27 SRR34134107_2.fastq\n",
      "-rw-rw-r-- 1 refm_youssef refm_youssef 7.4G Oct 23 02:19 SRR34134108_1.fastq\n",
      "-rw-rw-r-- 1 refm_youssef refm_youssef 7.4G Oct 23 02:19 SRR34134108_2.fastq\n",
      "-rw-rw-r-- 1 refm_youssef refm_youssef 7.3G Oct 23 02:10 SRR34134109_1.fastq\n",
      "-rw-rw-r-- 1 refm_youssef refm_youssef 7.3G Oct 23 02:10 SRR34134109_2.fastq\n",
      "--------------------------------------\n",
      "Verifying file count...\n",
      "Total files found: 12\n",
      "SUCCESS: All 12 FASTQ files (6 samples x 2 reads) are present.\n"
     ]
    }
   ],
   "source": [
    "%%bash\n",
    "echo \"--- Verifying files in 01_Raw_Data ---\"\n",
    "\n",
    "# List files with human-readable sizes\n",
    "ls -lh 01_Raw_Data/\n",
    "\n",
    "echo \"--------------------------------------\"\n",
    "echo \"Verifying file count...\"\n",
    "# Count the total number of files\n",
    "file_count=$(ls 01_Raw_Data/ | wc -l)\n",
    "echo \"Total files found: $file_count\"\n",
    "\n",
    "if [ $file_count -eq 12 ]; then\n",
    "    echo \"SUCCESS: All 12 FASTQ files (6 samples x 2 reads) are present.\"\n",
    "else\n",
    "    echo \"WARNING: Expected 12 files, but found $file_count.\"\n",
    "fi"
   ]
  },
  {
   "cell_type": "markdown",
   "id": "031e857f-98f2-4c02-b6e4-620bbd7a47fd",
   "metadata": {},
   "source": [
    "### 5. Compress FASTQ Files (Optimization)\n",
    "\n",
    "Raw FASTQ files are very large (several GBs each). To save disk space, we will compress them into `.fastq.gz` format.\n",
    "\n",
    "We use `pigz` (a parallel version of `gzip`) for fast, multi-threaded compression. All downstream tools (`fastp`, `hisat2`, etc.) can read `.gz` files directly."
   ]
  },
  {
   "cell_type": "code",
   "execution_count": 5,
   "id": "8d8f4a6e-98a4-4ca1-be97-4524ea168af9",
   "metadata": {},
   "outputs": [
    {
     "name": "stdout",
     "output_type": "stream",
     "text": [
      "--- Starting Compression ---\n",
      "Target directory: 01_Raw_Data\n",
      "Compressing all *.fastq files using pigz (8 threads)...\n",
      "--- Compression complete. ---\n",
      "Verifying compressed .gz files:\n",
      "total 14G\n",
      "-rw-rw-r-- 1 refm_youssef refm_youssef 1.4G Oct 23 02:53 SRR34134104_1.fastq.gz\n",
      "-rw-rw-r-- 1 refm_youssef refm_youssef 1.5G Oct 23 02:53 SRR34134104_2.fastq.gz\n",
      "-rw-rw-r-- 1 refm_youssef refm_youssef 1.1G Oct 23 02:42 SRR34134105_1.fastq.gz\n",
      "-rw-rw-r-- 1 refm_youssef refm_youssef 1.1G Oct 23 02:42 SRR34134105_2.fastq.gz\n",
      "-rw-rw-r-- 1 refm_youssef refm_youssef 1.1G Oct 23 02:35 SRR34134106_1.fastq.gz\n",
      "-rw-rw-r-- 1 refm_youssef refm_youssef 1.1G Oct 23 02:35 SRR34134106_2.fastq.gz\n",
      "-rw-rw-r-- 1 refm_youssef refm_youssef 1.1G Oct 23 02:27 SRR34134107_1.fastq.gz\n",
      "-rw-rw-r-- 1 refm_youssef refm_youssef 1.1G Oct 23 02:27 SRR34134107_2.fastq.gz\n",
      "-rw-rw-r-- 1 refm_youssef refm_youssef 1.2G Oct 23 02:19 SRR34134108_1.fastq.gz\n",
      "-rw-rw-r-- 1 refm_youssef refm_youssef 1.2G Oct 23 02:19 SRR34134108_2.fastq.gz\n",
      "-rw-rw-r-- 1 refm_youssef refm_youssef 1.2G Oct 23 02:10 SRR34134109_1.fastq.gz\n",
      "-rw-rw-r-- 1 refm_youssef refm_youssef 1.2G Oct 23 02:10 SRR34134109_2.fastq.gz\n"
     ]
    }
   ],
   "source": [
    "%%bash -s \"$output_dir\"\n",
    "# $1 is the output_dir variable from Python (Cell 2)\n",
    "\n",
    "output_dir=$1\n",
    "echo \"--- Starting Compression ---\"\n",
    "echo \"Target directory: $output_dir\"\n",
    "echo \"Compressing all *.fastq files using pigz (8 threads)...\"\n",
    "\n",
    "# -p 8: Use 8 threads\n",
    "# $output_dir/*.fastq: Compress all files ending in .fastq in that directory\n",
    "pigz -p 8 $output_dir/*.fastq\n",
    "\n",
    "echo \"--- Compression complete. ---\"\n",
    "echo \"Verifying compressed .gz files:\"\n",
    "ls -lh $output_dir/"
   ]
  },
  {
   "cell_type": "code",
   "execution_count": null,
   "id": "ba854454-5298-40dd-be09-0f4fd2144e7d",
   "metadata": {},
   "outputs": [],
   "source": []
  }
 ],
 "metadata": {
  "kernelspec": {
   "display_name": "Python 3 (ipykernel)",
   "language": "python",
   "name": "python3"
  },
  "language_info": {
   "codemirror_mode": {
    "name": "ipython",
    "version": 3
   },
   "file_extension": ".py",
   "mimetype": "text/x-python",
   "name": "python",
   "nbconvert_exporter": "python",
   "pygments_lexer": "ipython3",
   "version": "3.14.0"
  }
 },
 "nbformat": 4,
 "nbformat_minor": 5
}
