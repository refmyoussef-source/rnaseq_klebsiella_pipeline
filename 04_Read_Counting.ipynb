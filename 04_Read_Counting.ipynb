{
 "cells": [
  {
   "cell_type": "markdown",
   "id": "ca09213e-7228-4add-9d83-61608b29c5f3",
   "metadata": {},
   "source": [
    "# RNA-Seq Pipeline: Step 4 - Read Counting (featureCounts)\n",
    "\n",
    "This notebook performs \"read counting\" or \"quantification\".\n",
    "\n",
    "**Goal:**\n",
    "We need to count how many of our aligned reads (from the `.bam` files) actually overlap with known genes (from the `.gff` annotation file).\n",
    "\n",
    "The output will be a single file: a **\"counts matrix\"**. This is a simple table where:\n",
    "* Rows are **Genes** (e.g., `gene-KPN_00001`)\n",
    "* Columns are our **Samples** (e.g., `SRR34134104.sorted.bam`)\n",
    "* Values are the **number of reads** that mapped to that gene in that sample.\n",
    "\n",
    "This counts matrix is the final input for the statistical analysis (Step 5).\n",
    "\n",
    "**Tool:** `featureCounts` (from the `subread` package)"
   ]
  },
  {
   "cell_type": "code",
   "execution_count": null,
   "id": "0fba0f06-1975-455b-a159-8b49461e8dcf",
   "metadata": {},
   "outputs": [],
   "source": [
    "import os\n",
    "\n",
    "# --- Define Core Paths ---\n",
    "\n",
    "# 1. Input: Aligned/Sorted BAM files (from Notebook 03)\n",
    "alignment_dir = \"03_Aligned_BAMs\"\n",
    "\n",
    "# 2. Input: Reference Genome Annotation (from Notebook 01)\n",
    "genome_dir = \"06_Genome_Index\"\n",
    "# We need the GFF (General Feature Format) file, which contains the gene coordinates\n",
    "annotation_file = os.path.join(genome_dir, \"genes.gff\")\n",
    "\n",
    "# 3. Output: The counts data\n",
    "counts_dir = \"04_Counts\"\n",
    "os.makedirs(counts_dir, exist_ok=True)\n",
    "# This is the final matrix file we will create\n",
    "counts_matrix_file = os.path.join(counts_dir, \"gene_counts_matrix.txt\")\n",
    "\n",
    "print(f\"Annotation File (Input): {annotation_file}\")\n",
    "print(f\"BAM Directory (Input): {alignment_dir}\")\n",
    "print(f\"Counts Matrix (Output): {counts_matrix_file}\")"
   ]
  },
  {
   "cell_type": "code",
   "execution_count": null,
   "id": "0fa8bcc9-69b1-413b-b603-fa283e0a8766",
   "metadata": {},
   "outputs": [],
   "source": [
    "import os\n",
    "import glob # This library is good at finding files\n",
    "\n",
    "print(\"--- 1. Running featureCounts ---\")\n",
    "print(f\"Annotation: {annotation_file}\")\n",
    "print(f\"Output File: {counts_matrix_file}\")\n",
    "\n",
    "# --- FIX 1: Use glob to find files ---\n",
    "bam_pattern = os.path.join(alignment_dir, \"*.sorted.bam\")\n",
    "bam_files_list = sorted(glob.glob(bam_pattern))\n",
    "\n",
    "if not bam_files_list:\n",
    "    print(f\"Error: No '.sorted.bam' files found in {alignment_dir}\")\n",
    "else:\n",
    "    # Convert the Python list into a space-separated string\n",
    "    bam_files_string = \" \".join(bam_files_list)\n",
    "    \n",
    "    print(\"\\nFound BAM Files to process:\")\n",
    "    for f in bam_files_list:\n",
    "        print(f\" - {f}\")\n",
    "    \n",
    "    # --- FIX 2 (Your dUTP note): Add '-s 2' for reverse stranded ---\n",
    "    command = f\"\"\"\n",
    "    featureCounts \\\n",
    "        -T 8 \\\n",
    "        -p \\\n",
    "        -t gene \\\n",
    "        -g ID \\\n",
    "        -s 2 \\\n",
    "        -a {annotation_file} \\\n",
    "        -o {counts_matrix_file} \\\n",
    "        {bam_files_string}\n",
    "    \"\"\"\n",
    "    \n",
    "    print(\"\\nExecuting command (with -s 2 for dUTP protocol)...\")\n",
    "    !{command}\n",
    "    \n",
    "    print(\"\\n--- featureCounts complete. ---\")\n",
    "    print(f\"A summary was printed above, and the full matrix is in {counts_matrix_file}\")"
   ]
  }
 ],
 "metadata": {
  "kernelspec": {
   "display_name": "Python 3 (ipykernel)",
   "language": "python",
   "name": "python3"
  },
  "language_info": {
   "codemirror_mode": {
    "name": "ipython",
    "version": 3
   },
   "file_extension": ".py",
   "mimetype": "text/x-python",
   "name": "python",
   "nbconvert_exporter": "python",
   "pygments_lexer": "ipython3",
   "version": "3.14.0"
  }
 },
 "nbformat": 4,
 "nbformat_minor": 5
}
